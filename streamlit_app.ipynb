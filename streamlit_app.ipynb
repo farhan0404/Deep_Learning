{
  "nbformat": 4,
  "nbformat_minor": 0,
  "metadata": {
    "colab": {
      "provenance": []
    },
    "kernelspec": {
      "name": "python3",
      "display_name": "Python 3"
    },
    "language_info": {
      "name": "python"
    }
  },
  "cells": [
    {
      "cell_type": "code",
      "execution_count": null,
      "metadata": {
        "id": "D7RujjFL9-og"
      },
      "outputs": [],
      "source": []
    },
    {
      "cell_type": "code",
      "execution_count": null,
      "metadata": {
        "id": "6IkUs6xu_wPj"
      },
      "outputs": [],
      "source": [
        "\n",
        "from datetime import date\n",
        "\n",
        "import yfinance as yf\n",
        "\n",
        "from plotly import graph_objs as go\n",
        "import pandas as pd\n",
        "import numpy as np\n",
        "import matplotlib.pyplot as plt\n",
        "import pylab\n",
        "import scipy.stats as stats\n",
        "import streamlit as st"
      ]
    },
    {
      "cell_type": "code",
      "source": [
        "START = \"2004-09-01\"\n",
        "TODAY = date.today().strftime(\"%Y-%m-%d\")"
      ],
      "metadata": {
        "id": "uQrInxYA-auQ"
      },
      "execution_count": null,
      "outputs": []
    },
    {
      "cell_type": "code",
      "source": [
        "st.title('Stock Forecast App')\n",
        "\n",
        "stocks = ('GOOG', 'AAPL', 'MSFT', 'GME')\n",
        "selected_stock = st.selectbox('Select dataset for prediction', stocks)"
      ],
      "metadata": {
        "id": "4tTcE-pU-dNn"
      },
      "execution_count": null,
      "outputs": []
    },
    {
      "cell_type": "code",
      "source": [
        "def load_data(ticker):\n",
        "    data = yf.download(ticker, START, TODAY)\n",
        "    data.reset_index(inplace=True)\n",
        "    return data"
      ],
      "metadata": {
        "id": "S8x0v7s5-hL3"
      },
      "execution_count": null,
      "outputs": []
    },
    {
      "cell_type": "code",
      "source": [
        "data_load_state = st.text('Loading data...')\n",
        "data = load_data(selected_stock)\n",
        "data_load_state.text('Loading data... done!')\n",
        "\n",
        "st.subheader('Raw data')\n",
        "st.write(data.head())"
      ],
      "metadata": {
        "id": "bGL9IPWm-jqo"
      },
      "execution_count": null,
      "outputs": []
    },
    {
      "cell_type": "code",
      "source": [
        "def plot_raw_data(data):\n",
        "    fig = go.Figure()\n",
        "    fig.add_trace(go.Scatter(x=data['Date'], y=data['Open'], name=\"stock_open\"))\n",
        "    fig.add_trace(go.Scatter(x=data['Date'], y=data['Close'], name=\"stock_close\"))\n",
        "    fig.layout.update(title_text='FTSE STOCKS', xaxis_rangeslider_visible=True)\n",
        "    st.plotly_chart(fig)\n",
        "\n",
        "\n",
        "plot_raw_data(data)"
      ],
      "metadata": {
        "id": "18Jch5Cu_GPf"
      },
      "execution_count": null,
      "outputs": []
    },
    {
      "cell_type": "code",
      "source": [
        "def dataprocessing(data):\n",
        "  data=norm(data)\n",
        "  macd = MACD(data['Adj Close'], 12, 26, 9)\n",
        "  macd.name = 'MACD'\n",
        "  macd.tail()\n",
        "  plt.figure(figsize=(21,7))\n",
        "  plt.plot(macd,label='macd',color='red')\n",
        "  plt.title('MACD')\n",
        "  plt.legend(loc='upper left')\n",
        "  st.plt.show()\n",
        "  stochastics = stochastics_oscillator(data, 14)\n",
        "  stochastics.name = 'Stochastics'\n",
        "  stochastics.tail()\n",
        "  plt.figure(figsize=(21,7))\n",
        "  plt.plot(stochastics[-100:],label='Stochastics Oscillator',color='blue')\n",
        "  plt.title('Stochastics Oscillator')\n",
        "  plt.legend(loc='upper left')\n",
        "  st.plt.show()\n",
        "  atr = ATR(data,14)\n",
        "  atr.rename(columns={0:'ATR'}, inplace=True)\n",
        "  atr.tail()\n",
        "  plt.figure(figsize=(21,7))\n",
        "  plt.plot(atr[-100:],label='ATR',color='green')\n",
        "  plt.title('Average True Range')\n",
        "  plt.legend(loc='upper left')\n",
        "  st.plt.show()\n",
        "  data = pd.concat([data, macd, stochastics, atr], axis=1)\n",
        "  data.drop([ 'H-L', 'H-PC', 'L-PC','Open','High','Low','Close'], axis=1 , inplace=True)\n",
        "  data.tail()\n",
        "  data['Y'] = data['Adj Close'].shift(-1)\n",
        "  data.dropna(axis=0, inplace=True)\n",
        "  data.head()\n",
        "  data.set_index('Date', inplace=True)\n",
        "  data.head()\n",
        "  X, y = preprocess_df(data, shuffle=False)\n",
        "\n",
        "\n",
        "\n",
        "  return X,y\n",
        "#from tensorflow.keras.models import load_model\n",
        "#loaded_model = load_model('my_model.keras')\n",
        "from tensorflow.keras.models import load_model\n",
        "import requests\n",
        "from io import BytesIO\n",
        "\n",
        "# Replace 'raw_model_url' with the raw URL of your model file on GitHub\n",
        "raw_model_url = 'https://github.com/farhan0404/Deep_Learning/blob/main/my_model_2.keras'\n",
        "\n",
        "response = requests.get(raw_model_url)\n",
        "model_bytes = BytesIO(response.content)\n",
        "\n",
        "loaded_model = load_model(model_bytes)\n",
        "\n",
        "X,y = dataprocessing(data)\n",
        "X_test_reshaped = X.reshape((X.shape[0], -1, X.shape[-1]))\n",
        "test_predictions = loaded_model.predict(X_test_reshaped)\n",
        "\n",
        "plt.figure(figsize=(10, 6))\n",
        "plt.plot(dates[:len(y)], y, label='True Values', marker='o')\n",
        "plt.plot(dates[:len(test_predictions)], test_predictions[:, 0], label='Predicted Values', marker='o')\n",
        "plt.xlabel('Date')\n",
        "plt.ylabel('Your Y Variable Name')\n",
        "plt.title('True vs Predicted Values')\n",
        "plt.legend()\n",
        "st.plt.show()\n"
      ],
      "metadata": {
        "id": "26FFTmi7_KCG"
      },
      "execution_count": null,
      "outputs": []
    }
  ]
}