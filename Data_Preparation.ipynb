{
  "nbformat": 4,
  "nbformat_minor": 0,
  "metadata": {
    "colab": {
      "provenance": []
    },
    "kernelspec": {
      "name": "python3",
      "display_name": "Python 3"
    },
    "language_info": {
      "name": "python"
    }
  },
  "cells": [
    {
      "cell_type": "code",
      "execution_count": null,
      "metadata": {
        "id": "6OI9okTDHEXQ"
      },
      "outputs": [],
      "source": [
        "def norm(data):\n",
        "  data['Norm'] = np.log(data['Adj Close']/data['Adj Close'].shift(1))\n",
        "  data.dropna(inplace=True, axis=0)\n",
        "  stats.probplot(data['Norm'], dist=\"norm\", plot=pylab)\n",
        "  return data\n"
      ]
    },
    {
      "cell_type": "code",
      "source": [
        "import pandas as pd\n",
        "\n",
        "def MACD(df, period1, period2, periodSignal):\n",
        "    EMA1 = pd.DataFrame.ewm(df,span=period1).mean() # Provides exponential weighted functions\n",
        "    EMA2 = pd.DataFrame.ewm(df,span=period2).mean()\n",
        "\n",
        "    MACD = EMA1-EMA2\n",
        "    Signal = pd.DataFrame.ewm(MACD,periodSignal).mean()\n",
        "\n",
        "    Histogram = MACD-Signal\n",
        "    return Histogram"
      ],
      "metadata": {
        "id": "SstRu3qfHQL7"
      },
      "execution_count": null,
      "outputs": []
    },
    {
      "cell_type": "code",
      "source": [
        "import pandas as pd\n",
        "\n",
        "def stochastics_oscillator(df, period):\n",
        "    # Rolling minimum and maximum prices over a specified period\n",
        "    low_prices = pd.DataFrame.rolling(df['Low'], window=period).min()\n",
        "    high_prices = pd.DataFrame.rolling(df['High'], window=period).max()\n",
        "\n",
        "    # Stochastic Oscillator formula: %K = 100 * (Current Close - Lowest Low) / (Highest High - Lowest Low)\n",
        "    k_percent = 100 * (df['Close'] - low_prices) / (high_prices - low_prices)\n",
        "\n",
        "    return k_percent"
      ],
      "metadata": {
        "id": "TkqZppP_HYAb"
      },
      "execution_count": null,
      "outputs": []
    },
    {
      "cell_type": "code",
      "source": [
        "def ATR(df, period):\n",
        "    '''\n",
        "    Method A: Current High less the current Low\n",
        "    '''\n",
        "    # Calculate three different true range components\n",
        "    df['H-L'] = abs(df['High'] - df['Low'])         # High minus Low\n",
        "    df['H-PC'] = abs(df['High'] - df['Close'].shift(1))  # High minus Previous Close\n",
        "    df['L-PC'] = abs(df['Low'] - df['Close'].shift(1))   # Low minus Previous Close\n",
        "\n",
        "    # Calculate True Range (TR) as the maximum of the three components\n",
        "    TR = df[['H-L', 'H-PC', 'L-PC']].max(axis=1)\n",
        "\n",
        "    return TR.to_frame()"
      ],
      "metadata": {
        "id": "DzoZtUo-HZ_U"
      },
      "execution_count": null,
      "outputs": []
    },
    {
      "cell_type": "code",
      "source": [
        "from sklearn.preprocessing import RobustScaler\n",
        "from collections import deque\n",
        "import random\n",
        "import numpy as np\n",
        "def preprocess_df(data, shuffle=True):\n",
        "    mapped_data = data.copy()\n",
        "    SEQ_LEN = 60\n",
        "\n",
        "    scaler = RobustScaler()\n",
        "    scaled_data = scaler.fit_transform(data)\n",
        "\n",
        "\n",
        "    sequential_data = []  # this is a list that will CONTAIN the sequences\n",
        "    prev_days = deque(maxlen=SEQ_LEN)  # These will be our actual sequences. They are made with deque, which keeps the maximum length by popping out older values as new ones come in\n",
        "\n",
        "    for i in scaled_data:  # iterate over the values\n",
        "        prev_days.append([n for n in i[:-1]])  # store all but the target\n",
        "\n",
        "        # if prev_days have 60 days of data\n",
        "        if len(prev_days) == SEQ_LEN:\n",
        "            # sequential_data = [prev_days_data, target variable]\n",
        "            sequential_data.append([np.array(prev_days), i[-1]])\n",
        "    if shuffle == True:\n",
        "        random.shuffle(sequential_data)  # shuffle for good measure.\n",
        "\n",
        "    X = []\n",
        "    y = []\n",
        "\n",
        "    for seq, target in sequential_data:  # going over our new sequential data\n",
        "        X.append(seq)  # X is the sequences\n",
        "        y.append(target)  # y is the targets/labels (buys vs sell/notbuy)\n",
        "\n",
        "    if shuffle == True:\n",
        "        return np.array(X), y\n",
        "    else:\n",
        "        return np.array(X), y"
      ],
      "metadata": {
        "id": "RdsZ27gbHcCa"
      },
      "execution_count": null,
      "outputs": []
    }
  ]
}